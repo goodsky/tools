{
 "cells": [
  {
   "cell_type": "code",
   "execution_count": null,
   "metadata": {},
   "outputs": [],
   "source": [
    "from diffusers import DiffusionPipeline, LCMScheduler\n",
    "import torch\n",
    "\n",
    "model_id = \"stabilityai/stable-diffusion-xl-base-1.0\"\n",
    "lcm_lora_id = \"latent-consistency/lcm-lora-sdxl\"\n",
    "pipe = DiffusionPipeline.from_pretrained(model_id, use_safetensors=True, variant=\"fp16\", torch_dtype=torch.float16)\n",
    "pipe.scheduler = LCMScheduler.from_config(pipe.scheduler.config)\n",
    "\n",
    "pipe.load_lora_weights(lcm_lora_id, adapter_name=\"lora\")\n",
    "pipe.load_lora_weights(\"nerijs/pixel-art-xl\", adapter_name=\"pixel\")\n",
    "\n",
    "pipe.set_adapters([\"lora\", \"pixel\"], adapter_weights=[1.0, 1.2])\n",
    "pipe.enable_model_cpu_offload()"
   ]
  },
  {
   "cell_type": "code",
   "execution_count": null,
   "metadata": {},
   "outputs": [],
   "source": [
    "from datetime import datetime\n",
    "import os\n",
    "\n",
    "prompt = \"pixel, gameboy style character, 8-bit, pixel art, cute, fantasy, game character, pixelated\"\n",
    "negative_prompt = \"3d render, realistic\"\n",
    "\n",
    "num_images = 3\n",
    "output_dir = \"img\"\n",
    "os.makedirs(output_dir, exist_ok=True)\n",
    "\n",
    "timestamp = datetime.now().strftime(\"%Y-%m-%d-%H%M%S\")\n",
    "for i in range(num_images):\n",
    "    img = pipe(\n",
    "        prompt=prompt,\n",
    "        negative_prompt=negative_prompt,\n",
    "        num_inference_steps=8,\n",
    "        guidance_scale=1.5,\n",
    "    ).images[0]\n",
    "    \n",
    "    img.save(f\"{output_dir}/lcm_lora_{timestamp}_{i}.png\")"
   ]
  }
 ],
 "metadata": {
  "kernelspec": {
   "display_name": ".venv",
   "language": "python",
   "name": "python3"
  },
  "language_info": {
   "codemirror_mode": {
    "name": "ipython",
    "version": 3
   },
   "file_extension": ".py",
   "mimetype": "text/x-python",
   "name": "python",
   "nbconvert_exporter": "python",
   "pygments_lexer": "ipython3",
   "version": "3.12.10"
  }
 },
 "nbformat": 4,
 "nbformat_minor": 2
}
