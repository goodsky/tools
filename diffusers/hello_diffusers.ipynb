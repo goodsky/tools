{
 "cells": [
  {
   "cell_type": "markdown",
   "metadata": {},
   "source": [
    "https://colab.research.google.com/github/huggingface/notebooks/blob/main/diffusers/diffusers_intro.ipynba"
   ]
  },
  {
   "cell_type": "code",
   "execution_count": null,
   "metadata": {},
   "outputs": [],
   "source": [
    "from diffusers import DDPMPipeline\n",
    "\n",
    "image_pipe = DDPMPipeline.from_pretrained(\"google/ddpm-celebahq-256\")\n",
    "image_pipe.to(\"cuda\")"
   ]
  },
  {
   "cell_type": "code",
   "execution_count": null,
   "metadata": {},
   "outputs": [],
   "source": [
    "# Check where Hugging Face models are cached\n",
    "import os\n",
    "from huggingface_hub import snapshot_download\n",
    "from huggingface_hub.constants import HF_HUB_CACHE\n",
    "\n",
    "print(f\"Default Hugging Face cache directory: {HF_HUB_CACHE}\")\n",
    "print(f\"This resolves to: {os.path.expanduser(HF_HUB_CACHE)}\")\n",
    "\n",
    "# Also check if there are any environment variables that might override this\n",
    "hf_home = os.environ.get('HF_HOME')\n",
    "if hf_home:\n",
    "    print(f\"HF_HOME environment variable is set to: {hf_home}\")\n",
    "else:\n",
    "    print(\"HF_HOME environment variable is not set (using default)\")\n",
    "\n",
    "transformers_cache = os.environ.get('TRANSFORMERS_CACHE')\n",
    "if transformers_cache:\n",
    "    print(f\"TRANSFORMERS_CACHE environment variable is set to: {transformers_cache}\")\n",
    "else:\n",
    "    print(\"TRANSFORMERS_CACHE environment variable is not set (using default)\")"
   ]
  },
  {
   "cell_type": "code",
   "execution_count": null,
   "metadata": {},
   "outputs": [],
   "source": [
    "# Show where the specific model \"google/ddpm-celebahq-256\" would be cached\n",
    "import os\n",
    "from pathlib import Path\n",
    "\n",
    "cache_dir = Path(r\"C:\\Users\\skyler\\.cache\\huggingface\\hub\")\n",
    "print(f\"Models are stored in: {cache_dir}\")\n",
    "print()\n",
    "\n",
    "# The actual model folder will have a name like: models--google--ddpm-celebahq-256\n",
    "model_folder_pattern = \"models--google--ddpm-celebahq-256\"\n",
    "model_path = cache_dir / model_folder_pattern\n",
    "\n",
    "print(f\"Your specific model 'google/ddpm-celebahq-256' will be cached at:\")\n",
    "print(f\"  {model_path}\")\n",
    "print()\n",
    "\n",
    "# Check if the model is already downloaded\n",
    "if model_path.exists():\n",
    "    print(\"✅ Model is already downloaded!\")\n",
    "    print(\"Contents:\")\n",
    "    try:\n",
    "        for item in model_path.iterdir():\n",
    "            if item.is_dir():\n",
    "                print(f\"  📁 {item.name}/\")\n",
    "            else:\n",
    "                print(f\"  📄 {item.name}\")\n",
    "    except PermissionError:\n",
    "        print(\"  (Unable to list contents due to permissions)\")\n",
    "else:\n",
    "    print(\"❌ Model is not yet downloaded\")\n",
    "    print(\"It will be downloaded when you run DDPMPipeline.from_pretrained()\")"
   ]
  },
  {
   "cell_type": "code",
   "execution_count": null,
   "metadata": {},
   "outputs": [],
   "source": [
    "images = image_pipe().images"
   ]
  },
  {
   "cell_type": "code",
   "execution_count": null,
   "metadata": {},
   "outputs": [],
   "source": [
    "images[0]"
   ]
  }
 ],
 "metadata": {
  "kernelspec": {
   "display_name": ".venv",
   "language": "python",
   "name": "python3"
  },
  "language_info": {
   "codemirror_mode": {
    "name": "ipython",
    "version": 3
   },
   "file_extension": ".py",
   "mimetype": "text/x-python",
   "name": "python",
   "nbconvert_exporter": "python",
   "pygments_lexer": "ipython3",
   "version": "3.12.10"
  }
 },
 "nbformat": 4,
 "nbformat_minor": 2
}
