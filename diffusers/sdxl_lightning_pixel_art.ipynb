{
 "cells": [
  {
   "cell_type": "code",
   "execution_count": null,
   "metadata": {},
   "outputs": [],
   "source": [
    "import torch\n",
    "from diffusers import StableDiffusionXLPipeline, EulerDiscreteScheduler\n",
    "from huggingface_hub import hf_hub_download\n",
    "\n",
    "base = \"stabilityai/stable-diffusion-xl-base-1.0\"\n",
    "repo = \"ByteDance/SDXL-Lightning\"\n",
    "ckpt = \"sdxl_lightning_4step_lora.safetensors\"\n",
    "\n",
    "pixel_lora = \"nerijs/pixel-art-xl\"\n",
    "\n",
    "# Load model.\n",
    "pipe = StableDiffusionXLPipeline.from_pretrained(base, torch_dtype=torch.float16, variant=\"fp16\")\n",
    "pipe.load_lora_weights(hf_hub_download(repo, ckpt), adapter_name=\"lightning\")\n",
    "pipe.load_lora_weights(pixel_lora, adapter_name=\"pixel\")\n",
    "pipe.set_adapters([\"lightning\", \"pixel\"], adapter_weights=[1.0, 1.2])\n",
    "pipe.fuse_lora()\n",
    "\n",
    "# Ensure sampler uses \"trailing\" timesteps.\n",
    "pipe.scheduler = EulerDiscreteScheduler.from_config(pipe.scheduler.config, timestep_spacing=\"trailing\")\n",
    "pipe.enable_model_cpu_offload()\n"
   ]
  },
  {
   "cell_type": "code",
   "execution_count": null,
   "metadata": {},
   "outputs": [],
   "source": [
    "from datetime import datetime\n",
    "from pixeldetector import main\n",
    "import os\n",
    "\n",
    "prompt = \"Colorful sunset behind a mountain range with a lake in the foreground. Award winning. Landscape.\"\n",
    "negative_prompt = \"text, watermark, blurry, deformed, depth of field, realistic. 3d render, outline, border\"\n",
    "num_images = 1\n",
    "base_directory = \"img\"\n",
    "os.makedirs(base_directory, exist_ok=True)\n",
    "\n",
    "timestamp = datetime.now().strftime(\"%Y-%m-%d-%H%M%S\")\n",
    "for i in range(num_images):\n",
    "    img = pipe(\n",
    "        prompt=prompt,\n",
    "        negative_prompt=negative_prompt,\n",
    "        num_inference_steps=4,\n",
    "        guidance_scale=2,\n",
    "    ).images[0]\n",
    "    \n",
    "    img_base = f\"{base_directory}/{timestamp}_lightning_{i}\"\n",
    "    img_path = f\"{img_base}.png\"\n",
    "    img.save(img_path)\n",
    "\n",
    "    repaired_path = f\"{img_base}_repaired.png\"\n",
    "    main(img_path, repaired_path)"
   ]
  }
 ],
 "metadata": {
  "kernelspec": {
   "display_name": ".venv",
   "language": "python",
   "name": "python3"
  },
  "language_info": {
   "codemirror_mode": {
    "name": "ipython",
    "version": 3
   },
   "file_extension": ".py",
   "mimetype": "text/x-python",
   "name": "python",
   "nbconvert_exporter": "python",
   "pygments_lexer": "ipython3",
   "version": "3.12.10"
  }
 },
 "nbformat": 4,
 "nbformat_minor": 2
}
