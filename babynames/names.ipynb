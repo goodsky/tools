{
 "cells": [
  {
   "attachments": {},
   "cell_type": "markdown",
   "metadata": {},
   "source": [
    "# Popularity of Baby Names\n",
    "Analysis of the popularity of baby names using data from the SSA.gov dataset."
   ]
  },
  {
   "cell_type": "code",
   "execution_count": null,
   "metadata": {},
   "outputs": [],
   "source": [
    "import io, os, requests, zipfile\n",
    "\n",
    "url=\"https://www.ssa.gov/oact/babynames/names.zip\"\n",
    "directory=\"./data/\"\n",
    "namesDirectory=os.path.join(directory, \"names\")\n",
    "\n",
    "if not os.path.exists(namesDirectory):\n",
    "    r = requests.get(url)\n",
    "    assert r.ok\n",
    "    with zipfile.ZipFile(io.BytesIO(r.content)) as zip:\n",
    "        zip.extractall(namesDirectory)"
   ]
  },
  {
   "attachments": {},
   "cell_type": "markdown",
   "metadata": {},
   "source": [
    "Combine the yearly data into a single CSV. Filter to a single gender while we're at it, mostly because it simplifies the name key in the dictionary I'm using to combine data.\n"
   ]
  },
  {
   "cell_type": "code",
   "execution_count": null,
   "metadata": {},
   "outputs": [],
   "source": [
    "startYear=1921\n",
    "endYear=2021\n",
    "\n",
    "combined_filename=os.path.join(directory, f\"combined-{startYear}-{endYear}.csv\")\n",
    "if not os.path.exists(combined_filename):\n",
    "\n",
    "    # Read all the names from each year between start..end\n",
    "    #    1. Merge into a single CSV keyed by Name + Sex\n",
    "    #    2. Write to a new csv file with a column per year\n",
    "    all_the_names={}\n",
    "    for year in range(startYear, endYear + 1):\n",
    "        filename=os.path.join(namesDirectory, f\"yob{year}.txt\")\n",
    "        with open(filename, \"r\") as names:\n",
    "            for line in names:\n",
    "                name, sex, count = line.split(\",\")\n",
    "                key = (str.strip(name), str.strip(sex))\n",
    "                count = int(count)\n",
    "\n",
    "                if key not in all_the_names.keys():\n",
    "                    all_the_names[key] = {}\n",
    "\n",
    "                all_the_names[key][year] = count\n",
    "    \n",
    "    with open(combined_filename, \"w\") as combined_csv:\n",
    "        combined_csv.write(\"Name,Sex\")\n",
    "        for year in range(startYear, endYear + 1):\n",
    "            combined_csv.write(f\",{year}\")\n",
    "        combined_csv.write(\"\\n\")\n",
    "\n",
    "        for key, counts in all_the_names.items():\n",
    "            name, sex = key\n",
    "            combined_csv.write(f\"{name},{sex}\")\n",
    "            for year in range(startYear, endYear + 1):\n",
    "                combined_csv.write(f\",{0 if year not in counts.keys() else counts[year]}\")\n",
    "            combined_csv.write(\"\\n\")"
   ]
  },
  {
   "attachments": {},
   "cell_type": "markdown",
   "metadata": {},
   "source": [
    "Load the combined file into a Pandas Dataframe. Split the dataframe by gender and normalize to *approximately* the count per million. Disclaimer: I don't know this data was sampled."
   ]
  },
  {
   "cell_type": "code",
   "execution_count": null,
   "metadata": {},
   "outputs": [],
   "source": [
    "import numpy as np\n",
    "import pandas as pd\n",
    "\n",
    "names = pd.read_csv(combined_filename).set_index(['Sex', 'Name'])\n",
    "\n",
    "names_female = names[names.index.get_level_values('Sex') == \"F\"]\n",
    "names_female = pd.concat([(1_000_000 * series / series.sum()).round().astype(int) for header, series in names_female.items()], axis=1)\n",
    "\n",
    "names_male = names[names.index.get_level_values('Sex') == \"M\"]\n",
    "names_male = pd.concat([(1_000_000 * series / series.sum()).round().astype(int) for header, series in names_male.items()], axis=1)\n",
    "\n",
    "names = pd.concat([names_female, names_male])"
   ]
  },
  {
   "attachments": {},
   "cell_type": "markdown",
   "metadata": {},
   "source": [
    "# Fuzzy Name Matching\n",
    "\n",
    "Many names in the SSA.gov dataset are the same phonetic name with different spellings. This section uses the Fuzzy phonetic matching algorithm to group names phonetically."
   ]
  },
  {
   "cell_type": "code",
   "execution_count": null,
   "metadata": {},
   "outputs": [],
   "source": [
    "import fuzzy\n",
    "\n",
    "algorithm = fuzzy.nysiis\n",
    "algorithm_name = 'nysiis'\n",
    "\n",
    "yearToFuzz=\"2021\"\n",
    "\n",
    "fuzzy_filename=os.path.join(directory, f\"fuzzy-{algorithm_name}-{yearToFuzz}.csv\")\n",
    "\n",
    "if not os.path.exists(fuzzy_filename):\n",
    "    names_fuzzy = names[yearToFuzz].reset_index()\n",
    "    names_fuzzy[algorithm_name] = names_fuzzy['Name'].apply(algorithm)\n",
    "\n",
    "    # Group rows by their phonetic spelling\n",
    "    # Count all alternative spellings together\n",
    "    # Take the most common spelling as the representitive name, but print out alternatives too\n",
    "    with open(fuzzy_filename, \"w\") as fuzzy_csv:\n",
    "        fuzzy_csv.write(\"Name,Sex,PhoneticName,Count,Alternate Spellings, Alternate Spelling Details\\n\")\n",
    "        for key, group in names_fuzzy.groupby(by=['Sex', algorithm_name]):\n",
    "            sex, phonetic_name = key\n",
    "            sorted_group = group[group[yearToFuzz] > 0].sort_values(by=yearToFuzz, ascending=False)\n",
    "\n",
    "            # Only count groups that have at least one spelling for this year\n",
    "            row_count = len(sorted_group.index)\n",
    "            if (row_count == 0):\n",
    "                continue\n",
    "\n",
    "            most_common = sorted_group.iloc[0]\n",
    "            most_common_name = most_common['Name']\n",
    "\n",
    "            group_sum = sorted_group[yearToFuzz].sum()\n",
    "            group_alternate_spellings_count = row_count - 1\n",
    "            group_summary = str.join('/', [ f\"{row['Name']}({row[yearToFuzz]})\" for key, row in sorted_group.iterrows()])\n",
    "\n",
    "            fuzzy_csv.write(f\"{most_common_name},{sex},{phonetic_name},{group_sum},{group_alternate_spellings_count},{group_summary}\\n\")\n",
    "\n",
    "names_fuzzy = pd.read_csv(fuzzy_filename).set_index(['Sex', 'Name'])\n",
    "\n",
    "names_female_fuzzy = names_fuzzy[names_fuzzy.index.get_level_values('Sex') == \"F\"]\n",
    "names_male_fuzzy = names_fuzzy[names_fuzzy.index.get_level_values('Sex') == \"M\"]"
   ]
  },
  {
   "attachments": {},
   "cell_type": "markdown",
   "metadata": {},
   "source": [
    "## Top Name Trends\n",
    "Plot the popularity of the top 10 names from certain years."
   ]
  },
  {
   "cell_type": "code",
   "execution_count": null,
   "metadata": {},
   "outputs": [],
   "source": [
    "yearsToPlot = [ 1921, 1961, 1991, 2021 ]\n",
    "\n",
    "for year in yearsToPlot:\n",
    "    topFemaleNames = names_female.nlargest(5, f\"{year}\")\n",
    "    topMaleNames = names_male.nlargest(5, f\"{year}\")\n",
    "    pd.concat([topFemaleNames,topMaleNames]) \\\n",
    "        .sort_values(by=f\"{year}\", ascending=False) \\\n",
    "        .transpose() \\\n",
    "        .plot(title=f\"Most Popular Names of {year}\", ylabel=\"Count per Million\", figsize=(14,5))\n"
   ]
  },
  {
   "attachments": {},
   "cell_type": "markdown",
   "metadata": {},
   "source": [
    "## Specific Names Trends\n",
    "\n",
    "Plot specific names over time"
   ]
  },
  {
   "cell_type": "code",
   "execution_count": null,
   "metadata": {},
   "outputs": [],
   "source": [
    "names_to_plot = [ ('F', 'Erin'), ( 'F', 'Erica' ) ] \n",
    "names.loc[names_to_plot] \\\n",
    "    .sort_values(by=f\"{year}\", ascending=False) \\\n",
    "    .transpose() \\\n",
    "    .plot(title=f\"Name Popularity from {startYear} to {endYear}\", ylabel=\"Count per Million\", figsize=(14,5))"
   ]
  }
 ],
 "metadata": {
  "kernelspec": {
   "display_name": ".venv",
   "language": "python",
   "name": "python3"
  },
  "language_info": {
   "codemirror_mode": {
    "name": "ipython",
    "version": 3
   },
   "file_extension": ".py",
   "mimetype": "text/x-python",
   "name": "python",
   "nbconvert_exporter": "python",
   "pygments_lexer": "ipython3",
   "version": "3.11.1"
  },
  "orig_nbformat": 4,
  "vscode": {
   "interpreter": {
    "hash": "da8a519292e4853241492d489cc24df1d22e4900029d25732e5299c1757f04e4"
   }
  }
 },
 "nbformat": 4,
 "nbformat_minor": 2
}
