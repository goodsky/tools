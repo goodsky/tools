{
 "cells": [
  {
   "cell_type": "markdown",
   "metadata": {},
   "source": [
    "# Balatro Poker Hand Notebook\n",
    "\n",
    "Predict the probability of poker hands in a game of Balatro.\n",
    "\n",
    "This notebook has miscellaneous sketches. The final script will be available in `balatro_stat.py`."
   ]
  },
  {
   "cell_type": "code",
   "execution_count": null,
   "metadata": {},
   "outputs": [],
   "source": [
    "%load_ext autoreload\n",
    "%autoreload 2\n",
    "\n",
    "import os\n",
    "import json\n",
    "import math\n",
    "\n",
    "from balatro_save_reader import BalatroSaveReader, BalatroCard, BalatroPokerHand\n",
    "from poker_hands import find_poker_hands, PokerHandName\n",
    "from balatro_stat import next_hand_stats"
   ]
  },
  {
   "cell_type": "markdown",
   "metadata": {},
   "source": [
    "Balatro uses a save format that I haven't seen before. Possibly something about Lua or the LOVE game engine? It looks like: `{[\"key\"]=value,}`. This section explores the file format and parses it into a Python object for easier reading."
   ]
  },
  {
   "cell_type": "code",
   "execution_count": null,
   "metadata": {},
   "outputs": [],
   "source": [
    "save_file = 'Balatro\\\\1\\\\save.jkr'\n",
    "save_path = os.path.join(os.getenv('APPDATA'), save_file)\n",
    "\n",
    "save = BalatroSaveReader(save_path)\n",
    "\n",
    "# Print the raw file\n",
    "# print(str(save.balatro_save_file))\n",
    "\n",
    "# Print the parsed dictionary\n",
    "# print(json.dumps(save.data, indent=4))\n",
    "\n",
    "print(f'Deck has {len(save.deck())} cards.')\n",
    "\n",
    "print('Poker Hands:')\n",
    "print(*save.poker_hands())\n",
    "\n",
    "print('Current Hand:')\n",
    "print(*save.hand())\n",
    "\n",
    "print('Poker Hands:')\n",
    "print(find_poker_hands(save.hand()))"
   ]
  },
  {
   "cell_type": "markdown",
   "metadata": {},
   "source": [
    "# Poker Hand Testing\n",
    "\n",
    "Yes, my unit tests live in this notebook. Thank you for asking."
   ]
  },
  {
   "cell_type": "code",
   "execution_count": null,
   "metadata": {},
   "outputs": [],
   "source": [
    "def make_cards(cards) -> list[BalatroCard]:\n",
    "    value_dict = { 'A': 'Ace', 'K': 'King', 'Q': 'Queen', 'J': 'Jack' }\n",
    "    suit_dict = { 'C': 'Clubs', 'D': 'Diamonds', 'H': 'Hearts', 'S': 'Spades' }\n",
    "    def parse(card):\n",
    "        value, suit = card[:-1], card[-1:]\n",
    "        value = value_dict[value.upper()] if value.upper() in value_dict else value\n",
    "        suit = suit_dict[suit.upper()] if suit.upper() in suit_dict else suit\n",
    "        return BalatroCard(-1, {\n",
    "            'base': {\n",
    "                'value': value,\n",
    "                'suit': suit\n",
    "            },\n",
    "            'ability': {\n",
    "                'bonus': 0,\n",
    "                'mult': 0,\n",
    "            }\n",
    "        })\n",
    "\n",
    "    return [parse(card) for card in cards]"
   ]
  },
  {
   "cell_type": "code",
   "execution_count": null,
   "metadata": {},
   "outputs": [],
   "source": [
    "def expect(cards: list[str], expected: list[str]):\n",
    "    hand = make_cards(cards)\n",
    "    poker_hands = find_poker_hands(hand)\n",
    "    expected.append(PokerHandName.HIGH_CARD) # it's always there\n",
    "    failed_tests = [hand_name for hand_name, is_found in poker_hands.items() if is_found != (hand_name in expected)]\n",
    "\n",
    "    hand_str = ' '.join(map(str, hand))\n",
    "    if failed_tests:\n",
    "        print('FAIL', f'{hand_str:<42}', 'FAILED:', failed_tests)\n",
    "    else:\n",
    "        print('PASS', f'{hand_str:<42}', expected)\n",
    "\n",
    "expect(['aS', 'qH', '10D', '8C', '6H', '4D', '3D', '2C'], [])\n",
    "expect(['aS', 'kH', 'qD', 'jC', '10C', '4H', '3D', '2C'], [PokerHandName.STRAIGHT])\n",
    "expect(['aC', 'kC', 'qC', 'jC', '10C'], [PokerHandName.STRAIGHT_FLUSH, PokerHandName.FLUSH, PokerHandName.STRAIGHT])\n",
    "expect(['aS', 'kH', 'kS', 'qC', 'qS', 'jC', 'jS', '10S', '2C'], [PokerHandName.STRAIGHT_FLUSH, PokerHandName.FLUSH, PokerHandName.STRAIGHT, PokerHandName.TWO_PAIR, PokerHandName.PAIR])\n",
    "expect(['aS', 'qH', '10D', '6C', '5C', '4H', '3D', '2C'], [PokerHandName.STRAIGHT])\n",
    "expect(['aS', 'qH', '7C', '6D', '5D', '4D', '3D', '2C', '2D'], [PokerHandName.STRAIGHT_FLUSH, PokerHandName.FLUSH, PokerHandName.STRAIGHT, PokerHandName.PAIR])\n",
    "expect(['9H', '9S', '4D', '4H', '7S', '7D', '7C'], [PokerHandName.FULL_HOUSE, PokerHandName.THREE_OF_A_KIND, PokerHandName.TWO_PAIR, PokerHandName.PAIR])\n",
    "expect(['qH', '9H', '7S', '7H', '6H', '3H'], [PokerHandName.FLUSH, PokerHandName.PAIR])\n",
    "expect(['4S', '4C', '4H', '4D'], [PokerHandName.FOUR_OF_A_KIND, PokerHandName.THREE_OF_A_KIND, PokerHandName.PAIR])\n",
    "expect([], [])\n",
    "expect(['5D', '3H'], [])"
   ]
  },
  {
   "cell_type": "code",
   "execution_count": null,
   "metadata": {},
   "outputs": [],
   "source": [
    "hand = make_cards([ 'aS', 'qS', '10D', '6H', '6D', '5C', '3H', '3C'])\n",
    "deck = make_cards([ 'kS', '6C', '6S', '9C', '9S', 'jS', 'jD', '4S', '2C'])\n",
    "\n",
    "stats = next_hand_stats(hand, deck, max_discard=2)\n",
    "print(json.dumps(stats, indent=3))"
   ]
  },
  {
   "cell_type": "markdown",
   "metadata": {},
   "source": [
    "# Combinatorics\n",
    "\n",
    "Combinatorics of brute forcing 'next hand' probabilities. How far can I brute force?\n",
    "\n",
    "Seems like I'll be generally good with 3 discards - possibly up to 5 discards depending on how efficient things run."
   ]
  },
  {
   "cell_type": "code",
   "execution_count": null,
   "metadata": {},
   "outputs": [],
   "source": [
    "hand_size = 8\n",
    "deck_size = 44\n",
    "\n",
    "max_discard = 5\n",
    "\n",
    "operation_count = 0\n",
    "for discard_size in range(1, max_discard + 1):\n",
    "    discard_combinations = math.comb(hand_size, discard_size)\n",
    "    draw_combinations = math.comb(deck_size, discard_size)\n",
    "\n",
    "    print(f'\\t> Discarding {discard_size}: ({discard_combinations:_}) * ({draw_combinations:_})')\n",
    "    operation_count += discard_combinations * draw_combinations\n",
    "\n",
    "print()\n",
    "print(f'Hand Size: {hand_size}; Deck Size: {deck_size}; Max Discards: {max_discard};')\n",
    "print(f'Total Operations to Brute Force: {operation_count:_}')"
   ]
  }
 ],
 "metadata": {
  "kernelspec": {
   "display_name": ".venv",
   "language": "python",
   "name": "python3"
  },
  "language_info": {
   "codemirror_mode": {
    "name": "ipython",
    "version": 3
   },
   "file_extension": ".py",
   "mimetype": "text/x-python",
   "name": "python",
   "nbconvert_exporter": "python",
   "pygments_lexer": "ipython3",
   "version": "3.11.9"
  }
 },
 "nbformat": 4,
 "nbformat_minor": 2
}
