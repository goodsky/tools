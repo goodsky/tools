{
 "cells": [
  {
   "cell_type": "markdown",
   "metadata": {},
   "source": [
    "# Balatro Poker Hand Notebook\n",
    "\n",
    "Predict the probability of poker hands in a game of Balatro.\n",
    "\n",
    "This notebook has miscellaneous sketches. The final script will be available in `balatro_stat.py`."
   ]
  },
  {
   "cell_type": "code",
   "execution_count": 36,
   "metadata": {},
   "outputs": [
    {
     "name": "stdout",
     "output_type": "stream",
     "text": [
      "The autoreload extension is already loaded. To reload it, use:\n",
      "  %reload_ext autoreload\n"
     ]
    }
   ],
   "source": [
    "%load_ext autoreload\n",
    "%autoreload 2\n",
    "\n",
    "import os\n",
    "import json\n",
    "import math\n",
    "\n",
    "from balatro_save_reader import BalatroSaveReader, BalatroCard, BalatroPokerHand\n",
    "from poker_hands import find_poker_hands"
   ]
  },
  {
   "cell_type": "markdown",
   "metadata": {},
   "source": [
    "Balatro uses a save format that I haven't seen before. Possibly something about Lua or the LOVE game engine? It looks like: `{[\"key\"]=value,}`. This section explores the file format and parses it into a Python object for easier reading."
   ]
  },
  {
   "cell_type": "code",
   "execution_count": null,
   "metadata": {},
   "outputs": [],
   "source": [
    "save_file = 'Balatro\\\\1\\\\save.jkr'\n",
    "save_path = os.path.join(os.getenv('APPDATA'), save_file)\n",
    "\n",
    "save = BalatroSaveReader(save_path)\n",
    "\n",
    "# Print the raw file\n",
    "# print(str(save.balatro_save_file))\n",
    "\n",
    "# Print the parsed dictionary\n",
    "# print(json.dumps(save.data, indent=4))\n",
    "\n",
    "print(f'Deck has {len(save.deck())} cards.')\n",
    "\n",
    "print('Poker Hands:')\n",
    "print(*save.poker_hands())\n",
    "\n",
    "print('Current Hand:')\n",
    "print(*save.hand())"
   ]
  },
  {
   "cell_type": "markdown",
   "metadata": {},
   "source": [
    "Combinatorics of brute forcing 'next hand' probabilities. How far can I brute force?"
   ]
  },
  {
   "cell_type": "code",
   "execution_count": 24,
   "metadata": {},
   "outputs": [
    {
     "name": "stdout",
     "output_type": "stream",
     "text": [
      "\t> Discarding 1: (8) * (44)\n",
      "\t> Discarding 2: (28) * (946)\n",
      "\t> Discarding 3: (56) * (13_244)\n",
      "\t> Discarding 4: (70) * (135_751)\n",
      "\t> Discarding 5: (56) * (1_086_008)\n",
      "\n",
      "Hand Size: 8; Deck Size: 44; Max Discards: 5;\n",
      "Total Operations to Brute Force: 71_087_522\n"
     ]
    }
   ],
   "source": [
    "hand_size = 8\n",
    "deck_size = 44\n",
    "\n",
    "max_discard = 5\n",
    "\n",
    "operation_count = 0\n",
    "for discard_size in range(1, max_discard + 1):\n",
    "    discard_combinations = math.comb(hand_size, discard_size)\n",
    "    draw_combinations = math.comb(deck_size, discard_size)\n",
    "\n",
    "    print(f'\\t> Discarding {discard_size}: ({discard_combinations:_}) * ({draw_combinations:_})')\n",
    "    operation_count += discard_combinations * draw_combinations\n",
    "\n",
    "print()\n",
    "print(f'Hand Size: {hand_size}; Deck Size: {deck_size}; Max Discards: {max_discard};')\n",
    "print(f'Total Operations to Brute Force: {operation_count:_}')"
   ]
  },
  {
   "cell_type": "code",
   "execution_count": 43,
   "metadata": {},
   "outputs": [],
   "source": [
    "def make_cards(cards) -> list[BalatroCard]:\n",
    "    value_dict = { 'A': 'Ace', 'K': 'King', 'Q': 'Queen', 'J': 'Jack' }\n",
    "    suit_dict = { 'C': 'Clubs', 'D': 'Diamonds', 'H': 'Hearts', 'S': 'Spades' }\n",
    "    def parse(card):\n",
    "        value, suit = card[:-1], card[-1:]\n",
    "        value = value_dict[value.upper()] if value.upper() in value_dict else value\n",
    "        suit = suit_dict[suit.upper()] if suit.upper() in suit_dict else suit\n",
    "        return BalatroCard(value, suit)\n",
    "\n",
    "    return [parse(card) for card in cards]"
   ]
  },
  {
   "cell_type": "code",
   "execution_count": 73,
   "metadata": {},
   "outputs": [
    {
     "name": "stdout",
     "output_type": "stream",
     "text": [
      "A♠ Q♥ 10♦ 8♣ 6♥ 4♦ 3♦ 2♣ -> {'straight_flush': False, 'four_of_a_kind': False, 'full_house': False, 'flush': False, 'straight': False, 'two_pair': False, 'three_of_a_kind': False, 'pair': False}\n",
      "A♠ K♥ Q♦ J♣ 10♣ 4♥ 3♦ 2♣ -> {'straight_flush': False, 'four_of_a_kind': False, 'full_house': False, 'flush': False, 'straight': True, 'two_pair': False, 'three_of_a_kind': False, 'pair': False}\n",
      "A♣ K♣ Q♣ J♣ 10♣ -> {'straight_flush': True, 'four_of_a_kind': False, 'full_house': False, 'flush': True, 'straight': True, 'two_pair': False, 'three_of_a_kind': False, 'pair': False}\n",
      "A♠ K♥ K♠ Q♣ Q♠ J♣ J♠ 10♠ 2♣ -> {'straight_flush': True, 'four_of_a_kind': False, 'full_house': False, 'flush': True, 'straight': True, 'two_pair': True, 'three_of_a_kind': False, 'pair': True}\n",
      "A♠ Q♥ 10♦ 6♣ 5♣ 4♥ 3♦ 2♣ -> {'straight_flush': False, 'four_of_a_kind': False, 'full_house': False, 'flush': False, 'straight': True, 'two_pair': False, 'three_of_a_kind': False, 'pair': False}\n",
      "A♠ Q♥ 7♣ 6♦ 5♦ 4♦ 3♦ 2♦ -> {'straight_flush': True, 'four_of_a_kind': False, 'full_house': False, 'flush': True, 'straight': True, 'two_pair': False, 'three_of_a_kind': False, 'pair': False}\n",
      "9♥ 9♠ 4♦ 4♥ 7♠ 7♦ 7♣ -> {'straight_flush': False, 'four_of_a_kind': False, 'full_house': True, 'flush': False, 'straight': False, 'two_pair': True, 'three_of_a_kind': True, 'pair': True}\n",
      "Q♥ 9♥ 7♠ 7♥ 6♥ 3♥ -> {'straight_flush': False, 'four_of_a_kind': False, 'full_house': False, 'flush': True, 'straight': False, 'two_pair': False, 'three_of_a_kind': False, 'pair': True}\n"
     ]
    }
   ],
   "source": [
    "hands = [\n",
    "    make_cards([ 'aS', 'qH', '10D', '8C', '6H', '4D', '3D', '2C']),\n",
    "    make_cards([ 'aS', 'kH', 'qD', 'jC', '10C', '4H', '3D', '2C']),\n",
    "    make_cards([ 'aC', 'kC', 'qC', 'jC', '10C']),\n",
    "    make_cards([ 'aS', 'kH', 'kS', 'qC', 'qS', 'jC', 'jS', '10S', '2C']),\n",
    "    make_cards([ 'aS', 'qH', '10D', '6C', '5C', '4H', '3D', '2C']),\n",
    "    make_cards([ 'aS', 'qH', '7C', '6D', '5D', '4D', '3D', '2D']),\n",
    "    make_cards([ '9H', '9S', '4D', '4H', '7S', '7D', '7C' ]),\n",
    "    make_cards([ 'qH', '9H', '7S', '7H', '6H', '3H']),\n",
    "]\n",
    "\n",
    "for hand in hands:\n",
    "    print(*hand, '->', find_poker_hands(hand))"
   ]
  }
 ],
 "metadata": {
  "kernelspec": {
   "display_name": ".venv",
   "language": "python",
   "name": "python3"
  },
  "language_info": {
   "codemirror_mode": {
    "name": "ipython",
    "version": 3
   },
   "file_extension": ".py",
   "mimetype": "text/x-python",
   "name": "python",
   "nbconvert_exporter": "python",
   "pygments_lexer": "ipython3",
   "version": "3.11.9"
  }
 },
 "nbformat": 4,
 "nbformat_minor": 2
}
